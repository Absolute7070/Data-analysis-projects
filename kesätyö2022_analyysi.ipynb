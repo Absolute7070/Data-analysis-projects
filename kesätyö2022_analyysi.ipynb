{
 "cells": [
  {
   "cell_type": "markdown",
   "metadata": {},
   "source": [
    "# 2022 kesätyöanalyysi indeed-sivustosta: Python-työpaikkoja"
   ]
  },
  {
   "cell_type": "markdown",
   "metadata": {},
   "source": [
    "# Johdanto"
   ]
  },
  {
   "cell_type": "markdown",
   "metadata": {},
   "source": [
    "Tämän projektityön tarkoituksena on harjoitella Web Scraping -teknologiaa Pythonin BeautifulSoup ja requests-moduulin avulla. Projektissa analysoidaan tämän vuoden kesätyöpaikkoja työpaikan hakukoneen Indeed avulla. \n",
    "\n",
    "Projekti koostuu kahdesta ipynb-tiedostosta: \n",
    "- webscraping.ipynb: Käytetään web scraping -teknologiaa ja kerätään data talteen. Tuloksena saadaan json-tiedosto, jossa Indeed-sivuston työpaikkojen esite. \n",
    "- kesätyö2022_analyysi.ipynb: Luetaan edellä saatu json-tiedosto ja analysoidaan. "
   ]
  },
  {
   "cell_type": "markdown",
   "metadata": {},
   "source": [
    "# Analyysikysymykset"
   ]
  },
  {
   "cell_type": "markdown",
   "metadata": {},
   "source": [
    "1. Kuinka paljon Python liittyvää työpaikkaa tällä hetkellä on? Kuinka suuri on osuus, jossa ei tarvitaan lainkaan Pythonia vs tarvitaan Pythonia? \n",
    "\n",
    "2. Kuka on suurin työllistäjä (Eniten esiintymisiä Indeed-sivustossa)? \n",
    "\n",
    "3. Kuinka monessa työpaikassa tarvitaan Python lisäksi myös Javascript? Entä C++ ja C#? \n",
    "\n",
    "4. Kuinka paljon työpaikoista sisältää myös \"data-analyysi\" tai \"data-analyytikko\" avainsanoja \"python\" lisäksi? \n",
    "\n",
    "5. Kuinka paljon työpaikoista on data-analyysiin liittyvää, mutta ei tarvita Python? \n",
    "\n",
    "6. Missä kaupungissa esiintyy eniten Python työllistäjiä? "
   ]
  },
  {
   "cell_type": "markdown",
   "metadata": {},
   "source": [
    "# Data-analyysi"
   ]
  },
  {
   "cell_type": "code",
   "execution_count": 3,
   "metadata": {},
   "outputs": [
    {
     "name": "stderr",
     "output_type": "stream",
     "text": [
      "/home/degnaiyu/.local/lib/python3.8/site-packages/pandas/compat/_optional.py:149: UserWarning: Pandas requires version '1.3.1' or newer of 'bottleneck' (version '1.2.1' currently installed).\n",
      "  warnings.warn(msg, UserWarning)\n"
     ]
    }
   ],
   "source": [
    "%matplotlib inline \n",
    "import pandas as pd \n",
    "import numpy as np\n",
    "import matplotlib.pyplot as plt "
   ]
  },
  {
   "cell_type": "markdown",
   "metadata": {},
   "source": [
    "## Datan luku"
   ]
  },
  {
   "cell_type": "code",
   "execution_count": 4,
   "metadata": {},
   "outputs": [],
   "source": [
    "data= pd.read_json('scrapingresult.json')"
   ]
  },
  {
   "cell_type": "code",
   "execution_count": 5,
   "metadata": {},
   "outputs": [
    {
     "data": {
      "text/html": [
       "<div>\n",
       "<style scoped>\n",
       "    .dataframe tbody tr th:only-of-type {\n",
       "        vertical-align: middle;\n",
       "    }\n",
       "\n",
       "    .dataframe tbody tr th {\n",
       "        vertical-align: top;\n",
       "    }\n",
       "\n",
       "    .dataframe thead th {\n",
       "        text-align: right;\n",
       "    }\n",
       "</style>\n",
       "<table border=\"1\" class=\"dataframe\">\n",
       "  <thead>\n",
       "    <tr style=\"text-align: right;\">\n",
       "      <th></th>\n",
       "      <th>Työpaikan nimike</th>\n",
       "      <th>Yritysnimi</th>\n",
       "      <th>Sijaintikunta</th>\n",
       "      <th>Seloste</th>\n",
       "    </tr>\n",
       "  </thead>\n",
       "  <tbody>\n",
       "    <tr>\n",
       "      <th>0</th>\n",
       "      <td>Pizzeriatyöntekijä Kesätyö 2022 Rax Pizzabuffe...</td>\n",
       "      <td>Restel Ravintolat Oy</td>\n",
       "      <td>Helsinki</td>\n",
       "      <td>Oletko reipas ja vastuuntuntoinen tyyppi, joka...</td>\n",
       "    </tr>\n",
       "    <tr>\n",
       "      <th>1</th>\n",
       "      <td>Kesärekry - Kesätyöntekijöitä Customer Service...</td>\n",
       "      <td>JYSK</td>\n",
       "      <td>Vantaa</td>\n",
       "      <td>Yrityksen kuvaus\\nHaemme kesätyöntekijöitä 30-...</td>\n",
       "    </tr>\n",
       "    <tr>\n",
       "      <th>2</th>\n",
       "      <td>Myyjä (kesätyöntekijä), Kankaanpää</td>\n",
       "      <td>Musti ja Mirri Oy</td>\n",
       "      <td>Helsinki</td>\n",
       "      <td>Myyjä Kankaanpään Musti ja Mirri myymälään (ke...</td>\n",
       "    </tr>\n",
       "    <tr>\n",
       "      <th>3</th>\n",
       "      <td>Jäätelönmyyjä</td>\n",
       "      <td>Finncafe</td>\n",
       "      <td>Helsinki</td>\n",
       "      <td>We are looking for people who can sell ice cre...</td>\n",
       "    </tr>\n",
       "    <tr>\n",
       "      <th>4</th>\n",
       "      <td>Kesätyö, 16-17-vuotiaat</td>\n",
       "      <td>Helsingin Kaupunki</td>\n",
       "      <td>Helsinki</td>\n",
       "      <td>Hei sinä 16-17-vuotias nuori!\\n\\n\\nKaipaatko k...</td>\n",
       "    </tr>\n",
       "  </tbody>\n",
       "</table>\n",
       "</div>"
      ],
      "text/plain": [
       "                                    Työpaikan nimike            Yritysnimi  \\\n",
       "0  Pizzeriatyöntekijä Kesätyö 2022 Rax Pizzabuffe...  Restel Ravintolat Oy   \n",
       "1  Kesärekry - Kesätyöntekijöitä Customer Service...                  JYSK   \n",
       "2                 Myyjä (kesätyöntekijä), Kankaanpää     Musti ja Mirri Oy   \n",
       "3                                      Jäätelönmyyjä              Finncafe   \n",
       "4                            Kesätyö, 16-17-vuotiaat    Helsingin Kaupunki   \n",
       "\n",
       "  Sijaintikunta                                            Seloste  \n",
       "0      Helsinki  Oletko reipas ja vastuuntuntoinen tyyppi, joka...  \n",
       "1        Vantaa  Yrityksen kuvaus\\nHaemme kesätyöntekijöitä 30-...  \n",
       "2      Helsinki  Myyjä Kankaanpään Musti ja Mirri myymälään (ke...  \n",
       "3      Helsinki  We are looking for people who can sell ice cre...  \n",
       "4      Helsinki  Hei sinä 16-17-vuotias nuori!\\n\\n\\nKaipaatko k...  "
      ]
     },
     "execution_count": 5,
     "metadata": {},
     "output_type": "execute_result"
    }
   ],
   "source": [
    "data.head()"
   ]
  },
  {
   "cell_type": "markdown",
   "metadata": {},
   "source": [
    "## Data cleaning"
   ]
  },
  {
   "cell_type": "code",
   "execution_count": 6,
   "metadata": {},
   "outputs": [],
   "source": [
    "data= data.dropna(axis=0)  #poistetaan kaikki rivit, jossa on tyhjiä arvoja\n",
    "data= data.drop_duplicates(subset= ['Seloste'])   # poistetaan toistetut rivit: Näköjään indeed-sivustossa on toituvia työpaikan esitteitä "
   ]
  },
  {
   "cell_type": "markdown",
   "metadata": {},
   "source": [
    "# 1. Kysymys: "
   ]
  },
  {
   "cell_type": "markdown",
   "metadata": {},
   "source": [
    "**1. Kuinka paljon Python liittyvää työpaikkaa tällä hetkellä on? Kuinka suuri on osuus, jossa ei tarvitaan lainkaan Pythonia vs tarvitaan Pythonia?**"
   ]
  },
  {
   "cell_type": "markdown",
   "metadata": {},
   "source": [
    "Seloste sarake: "
   ]
  },
  {
   "cell_type": "code",
   "execution_count": 7,
   "metadata": {},
   "outputs": [
    {
     "data": {
      "text/plain": [
       "0    Oletko reipas ja vastuuntuntoinen tyyppi, joka...\n",
       "1    Yrityksen kuvaus\\nHaemme kesätyöntekijöitä 30-...\n",
       "2    Myyjä Kankaanpään Musti ja Mirri myymälään (ke...\n",
       "3    We are looking for people who can sell ice cre...\n",
       "4    Hei sinä 16-17-vuotias nuori!\\n\\n\\nKaipaatko k...\n",
       "Name: Seloste, dtype: object"
      ]
     },
     "execution_count": 7,
     "metadata": {},
     "output_type": "execute_result"
    }
   ],
   "source": [
    "selosteet= data['Seloste']    #Poimitaan Seloste-sarake data-taulukosta \n",
    "selosteet.head()"
   ]
  },
  {
   "cell_type": "code",
   "execution_count": 8,
   "metadata": {},
   "outputs": [],
   "source": [
    "selosteet_lower= selosteet.str.lower() #Seloste-sarakkeen tekstit muunnetaan pieniksi kirjaimiksi "
   ]
  },
  {
   "cell_type": "markdown",
   "metadata": {},
   "source": [
    "Näytetään tietorivejä, jossa tarvitaan Pythonia: "
   ]
  },
  {
   "cell_type": "code",
   "execution_count": 9,
   "metadata": {},
   "outputs": [
    {
     "data": {
      "text/html": [
       "<div>\n",
       "<style scoped>\n",
       "    .dataframe tbody tr th:only-of-type {\n",
       "        vertical-align: middle;\n",
       "    }\n",
       "\n",
       "    .dataframe tbody tr th {\n",
       "        vertical-align: top;\n",
       "    }\n",
       "\n",
       "    .dataframe thead th {\n",
       "        text-align: right;\n",
       "    }\n",
       "</style>\n",
       "<table border=\"1\" class=\"dataframe\">\n",
       "  <thead>\n",
       "    <tr style=\"text-align: right;\">\n",
       "      <th></th>\n",
       "      <th>Työpaikan nimike</th>\n",
       "      <th>Yritysnimi</th>\n",
       "      <th>Sijaintikunta</th>\n",
       "      <th>Seloste</th>\n",
       "    </tr>\n",
       "  </thead>\n",
       "  <tbody>\n",
       "  </tbody>\n",
       "</table>\n",
       "</div>"
      ],
      "text/plain": [
       "Empty DataFrame\n",
       "Columns: [Työpaikan nimike, Yritysnimi, Sijaintikunta, Seloste]\n",
       "Index: []"
      ]
     },
     "execution_count": 9,
     "metadata": {},
     "output_type": "execute_result"
    }
   ],
   "source": [
    "data[selosteet_lower.str.contains('python')]"
   ]
  },
  {
   "cell_type": "markdown",
   "metadata": {},
   "source": [
    "## Johtopäätös"
   ]
  },
  {
   "cell_type": "markdown",
   "metadata": {},
   "source": [
    "Tänä kesänä ei tarvita lainkaan Pythonia! "
   ]
  },
  {
   "cell_type": "markdown",
   "metadata": {},
   "source": [
    "# 2. Kysymys: "
   ]
  },
  {
   "cell_type": "markdown",
   "metadata": {},
   "source": [
    "**2. Kuka on suurin työllistäjä (Esiintyy eniten indeed sivustossa)?**"
   ]
  },
  {
   "cell_type": "markdown",
   "metadata": {},
   "source": [
    "Yhteenveto kesätyöpaikoista: "
   ]
  },
  {
   "cell_type": "code",
   "execution_count": 10,
   "metadata": {},
   "outputs": [
    {
     "data": {
      "text/html": [
       "<div>\n",
       "<style scoped>\n",
       "    .dataframe tbody tr th:only-of-type {\n",
       "        vertical-align: middle;\n",
       "    }\n",
       "\n",
       "    .dataframe tbody tr th {\n",
       "        vertical-align: top;\n",
       "    }\n",
       "\n",
       "    .dataframe thead th {\n",
       "        text-align: right;\n",
       "    }\n",
       "</style>\n",
       "<table border=\"1\" class=\"dataframe\">\n",
       "  <thead>\n",
       "    <tr style=\"text-align: right;\">\n",
       "      <th></th>\n",
       "      <th>Työpaikan nimike</th>\n",
       "      <th>Yritysnimi</th>\n",
       "      <th>Sijaintikunta</th>\n",
       "      <th>Seloste</th>\n",
       "    </tr>\n",
       "  </thead>\n",
       "  <tbody>\n",
       "    <tr>\n",
       "      <th>count</th>\n",
       "      <td>471</td>\n",
       "      <td>471</td>\n",
       "      <td>471</td>\n",
       "      <td>471</td>\n",
       "    </tr>\n",
       "    <tr>\n",
       "      <th>unique</th>\n",
       "      <td>431</td>\n",
       "      <td>260</td>\n",
       "      <td>43</td>\n",
       "      <td>471</td>\n",
       "    </tr>\n",
       "    <tr>\n",
       "      <th>top</th>\n",
       "      <td>Jäätelönmyyjä</td>\n",
       "      <td>Vantaan kaupunki</td>\n",
       "      <td>Helsinki</td>\n",
       "      <td>Oletko reipas ja vastuuntuntoinen tyyppi, joka...</td>\n",
       "    </tr>\n",
       "    <tr>\n",
       "      <th>freq</th>\n",
       "      <td>7</td>\n",
       "      <td>22</td>\n",
       "      <td>203</td>\n",
       "      <td>1</td>\n",
       "    </tr>\n",
       "  </tbody>\n",
       "</table>\n",
       "</div>"
      ],
      "text/plain": [
       "       Työpaikan nimike        Yritysnimi Sijaintikunta  \\\n",
       "count               471               471           471   \n",
       "unique              431               260            43   \n",
       "top       Jäätelönmyyjä  Vantaan kaupunki      Helsinki   \n",
       "freq                  7                22           203   \n",
       "\n",
       "                                                  Seloste  \n",
       "count                                                 471  \n",
       "unique                                                471  \n",
       "top     Oletko reipas ja vastuuntuntoinen tyyppi, joka...  \n",
       "freq                                                    1  "
      ]
     },
     "execution_count": 10,
     "metadata": {},
     "output_type": "execute_result"
    }
   ],
   "source": [
    "data.describe() "
   ]
  },
  {
   "cell_type": "markdown",
   "metadata": {},
   "source": [
    "**20 yritystä, joilla on suurimmat kesätyöpaikkojen tarjonnat:** "
   ]
  },
  {
   "cell_type": "code",
   "execution_count": 11,
   "metadata": {},
   "outputs": [
    {
     "data": {
      "image/png": "[encoded data removed]",
      "text/plain": [
       "<Figure size 1440x720 with 1 Axes>"
      ]
     },
     "metadata": {
      "needs_background": "light"
     },
     "output_type": "display_data"
    }
   ],
   "source": [
    "top20company= data.value_counts(subset= ['Yritysnimi'])[0:20]   #Poimitaan 20 yritystä, jotka tarjoavat eniten kesätyöpaikkoja \n",
    "top20company= top20company.reset_index()                        #indeksit muunnetaan tietosarakkeeksi \n",
    "\n",
    "#plottaus\n",
    "top20company.sort_values(by= 0).plot.barh(x='Yritysnimi', y=0, legend=False, figsize=(20, 10), xticks= list(range(0, 30, 1)));   \n",
    "plt.grid(axis='x')\n",
    "plt.title('Top 20 yritystä', fontsize= 20)\n",
    "plt.show()"
   ]
  },
  {
   "cell_type": "markdown",
   "metadata": {},
   "source": [
    "**10 Kaupunkia , joilla on suurimmat kesätyöpaikkojen tarjonnat:**"
   ]
  },
  {
   "cell_type": "code",
   "execution_count": 12,
   "metadata": {},
   "outputs": [],
   "source": [
    "top10city= data.value_counts(subset= ['Sijaintikunta'])[0:10]     #10 kuntaa, jotka tarjoavat eniten kesätyöpaikkoja \n",
    "\n",
    "top10city= top10city.reset_index() \n",
    "top10city.loc[3, 'Sijaintikunta']='Määrittämätön kunta'  #muunnetaa Suomi rivi määrittämöttömäksi kunnaksi\n"
   ]
  },
  {
   "cell_type": "code",
   "execution_count": 13,
   "metadata": {},
   "outputs": [
    {
     "data": {
      "image/png": "[encoded data removed]",
      "text/plain": [
       "<Figure size 1440x720 with 1 Axes>"
      ]
     },
     "metadata": {
      "needs_background": "light"
     },
     "output_type": "display_data"
    }
   ],
   "source": [
    "#Plottaus \n",
    "top10city.sort_values(by= 0).plot.barh(x='Sijaintikunta', y=0, legend=False, figsize=(20, 10), xticks= list(range(0, 210, 20))); \n",
    "plt.grid(axis='x')\n",
    "plt.title('Top 10 paikkakuntaa', fontsize= 20)\n",
    "plt.show()"
   ]
  },
  {
   "cell_type": "markdown",
   "metadata": {},
   "source": [
    "## Johtopäätös"
   ]
  },
  {
   "cell_type": "markdown",
   "metadata": {},
   "source": [
    "Voidaan tehdä seuraavat johtopäätökset: \n",
    "- yritys, joka tarjoaa eniten kesätyöpaikkoja, on Vantaan kaupunki. \n",
    "- Kunnan tasolla Helsinki on suurin työllistäjä. \n",
    "- Jäätelönmyyjiä on eniten tarjontaa tänä kesänä. "
   ]
  },
  {
   "cell_type": "markdown",
   "metadata": {},
   "source": [
    "# 3. Kysymys: "
   ]
  },
  {
   "cell_type": "markdown",
   "metadata": {},
   "source": [
    "**3. Kuinka moni tarvitsee Python lisäksi myös Javascript? Entä C++ ja C#?**"
   ]
  },
  {
   "cell_type": "markdown",
   "metadata": {},
   "source": [
    "Pythonia ei tarvita 1. kysymyksen tuloksen mukaan. Analysoidaan Javascript, C++, ja C# kysyntää. "
   ]
  },
  {
   "cell_type": "code",
   "execution_count": 14,
   "metadata": {},
   "outputs": [
    {
     "data": {
      "text/plain": [
       "0      oletko reipas ja vastuuntuntoinen tyyppi, joka...\n",
       "1      yrityksen kuvaus\\nhaemme kesätyöntekijöitä 30-...\n",
       "2      myyjä kankaanpään musti ja mirri myymälään (ke...\n",
       "3      we are looking for people who can sell ice cre...\n",
       "4      hei sinä 16-17-vuotias nuori!\\n\\n\\nkaipaatko k...\n",
       "                             ...                        \n",
       "505    näytä lisää\\ntule kesäksi töihin meille päijät...\n",
       "506    onko sinulle tärkeää tehdä työtä, jolla on oik...\n",
       "507    näytä lisää\\nkesä tulee kovaa vauhtia. sairaan...\n",
       "508    haalariharjoittelijoita pääkaupunkiseudulle\\n\\...\n",
       "509    kesätyö: siivoojia joensuuhun\\njoensuu\\ncoor o...\n",
       "Name: Seloste, Length: 471, dtype: object"
      ]
     },
     "execution_count": 14,
     "metadata": {},
     "output_type": "execute_result"
    }
   ],
   "source": [
    "selosteet_lower     #näytetään Seloste-sarake, jossa kaikki kirjaimet ovat pienellä"
   ]
  },
  {
   "cell_type": "code",
   "execution_count": 15,
   "metadata": {},
   "outputs": [
    {
     "data": {
      "text/html": [
       "<div>\n",
       "<style scoped>\n",
       "    .dataframe tbody tr th:only-of-type {\n",
       "        vertical-align: middle;\n",
       "    }\n",
       "\n",
       "    .dataframe tbody tr th {\n",
       "        vertical-align: top;\n",
       "    }\n",
       "\n",
       "    .dataframe thead th {\n",
       "        text-align: right;\n",
       "    }\n",
       "</style>\n",
       "<table border=\"1\" class=\"dataframe\">\n",
       "  <thead>\n",
       "    <tr style=\"text-align: right;\">\n",
       "      <th></th>\n",
       "      <th>Työpaikan nimike</th>\n",
       "      <th>Yritysnimi</th>\n",
       "      <th>Sijaintikunta</th>\n",
       "      <th>Seloste</th>\n",
       "    </tr>\n",
       "  </thead>\n",
       "  <tbody>\n",
       "  </tbody>\n",
       "</table>\n",
       "</div>"
      ],
      "text/plain": [
       "Empty DataFrame\n",
       "Columns: [Työpaikan nimike, Yritysnimi, Sijaintikunta, Seloste]\n",
       "Index: []"
      ]
     },
     "execution_count": 15,
     "metadata": {},
     "output_type": "execute_result"
    }
   ],
   "source": [
    "data[selosteet_lower.str.contains('javascript')]       #Näytetään tietorivit, joissa on Javascript-kieltä tarvitsevia työpaikkoja "
   ]
  },
  {
   "cell_type": "code",
   "execution_count": 16,
   "metadata": {},
   "outputs": [
    {
     "data": {
      "text/html": [
       "<div>\n",
       "<style scoped>\n",
       "    .dataframe tbody tr th:only-of-type {\n",
       "        vertical-align: middle;\n",
       "    }\n",
       "\n",
       "    .dataframe tbody tr th {\n",
       "        vertical-align: top;\n",
       "    }\n",
       "\n",
       "    .dataframe thead th {\n",
       "        text-align: right;\n",
       "    }\n",
       "</style>\n",
       "<table border=\"1\" class=\"dataframe\">\n",
       "  <thead>\n",
       "    <tr style=\"text-align: right;\">\n",
       "      <th></th>\n",
       "      <th>Työpaikan nimike</th>\n",
       "      <th>Yritysnimi</th>\n",
       "      <th>Sijaintikunta</th>\n",
       "      <th>Seloste</th>\n",
       "    </tr>\n",
       "  </thead>\n",
       "  <tbody>\n",
       "  </tbody>\n",
       "</table>\n",
       "</div>"
      ],
      "text/plain": [
       "Empty DataFrame\n",
       "Columns: [Työpaikan nimike, Yritysnimi, Sijaintikunta, Seloste]\n",
       "Index: []"
      ]
     },
     "execution_count": 16,
     "metadata": {},
     "output_type": "execute_result"
    }
   ],
   "source": [
    "data[selosteet_lower.str.contains('c\\+\\+')] #Näytetään tietorivit, joissa on C++-kieltä tarvitsevia työpaikkoja "
   ]
  },
  {
   "cell_type": "code",
   "execution_count": 17,
   "metadata": {},
   "outputs": [
    {
     "data": {
      "text/html": [
       "<div>\n",
       "<style scoped>\n",
       "    .dataframe tbody tr th:only-of-type {\n",
       "        vertical-align: middle;\n",
       "    }\n",
       "\n",
       "    .dataframe tbody tr th {\n",
       "        vertical-align: top;\n",
       "    }\n",
       "\n",
       "    .dataframe thead th {\n",
       "        text-align: right;\n",
       "    }\n",
       "</style>\n",
       "<table border=\"1\" class=\"dataframe\">\n",
       "  <thead>\n",
       "    <tr style=\"text-align: right;\">\n",
       "      <th></th>\n",
       "      <th>Työpaikan nimike</th>\n",
       "      <th>Yritysnimi</th>\n",
       "      <th>Sijaintikunta</th>\n",
       "      <th>Seloste</th>\n",
       "    </tr>\n",
       "  </thead>\n",
       "  <tbody>\n",
       "    <tr>\n",
       "      <th>467</th>\n",
       "      <td>Kesätöihin Integraatiokehittäjäksi tai Operations</td>\n",
       "      <td>Frends Technology</td>\n",
       "      <td>Espoo</td>\n",
       "      <td>Maailma ei pyöri ilman integraatioita. Me emme...</td>\n",
       "    </tr>\n",
       "  </tbody>\n",
       "</table>\n",
       "</div>"
      ],
      "text/plain": [
       "                                      Työpaikan nimike         Yritysnimi  \\\n",
       "467  Kesätöihin Integraatiokehittäjäksi tai Operations  Frends Technology   \n",
       "\n",
       "    Sijaintikunta                                            Seloste  \n",
       "467         Espoo  Maailma ei pyöri ilman integraatioita. Me emme...  "
      ]
     },
     "execution_count": 17,
     "metadata": {},
     "output_type": "execute_result"
    }
   ],
   "source": [
    "data[selosteet_lower.str.contains('c#')] #Näytetään tietorivit, joissa on C#-kieltä tarvitsevia työpaikkoja "
   ]
  },
  {
   "cell_type": "markdown",
   "metadata": {},
   "source": [
    "## Johtopäätös "
   ]
  },
  {
   "cell_type": "markdown",
   "metadata": {},
   "source": [
    "Löydettiin yksi työpaikka yrityksestä Frends Technology, jossa tarvitaan C#. Työpaikan nimike on integraatiokehittäjä. Javascript, Python ja C++ ei kuulu tämän kesän aiheeseen. "
   ]
  },
  {
   "cell_type": "markdown",
   "metadata": {},
   "source": [
    "# 4. Kysymys: "
   ]
  },
  {
   "cell_type": "markdown",
   "metadata": {},
   "source": [
    "**4. Kuinka paljon työpaikoista sisältää myös \"data-analyysi\" tai \"data-analyytikko\" avainsanoja \"python\" lisäksi?**"
   ]
  },
  {
   "cell_type": "markdown",
   "metadata": {},
   "source": [
    "Etsitään avainsanat 'data-analyysi' ja 'data-analyytikko', ja jätetään python osuus huomiotta. "
   ]
  },
  {
   "cell_type": "code",
   "execution_count": 18,
   "metadata": {},
   "outputs": [
    {
     "data": {
      "text/html": [
       "<div>\n",
       "<style scoped>\n",
       "    .dataframe tbody tr th:only-of-type {\n",
       "        vertical-align: middle;\n",
       "    }\n",
       "\n",
       "    .dataframe tbody tr th {\n",
       "        vertical-align: top;\n",
       "    }\n",
       "\n",
       "    .dataframe thead th {\n",
       "        text-align: right;\n",
       "    }\n",
       "</style>\n",
       "<table border=\"1\" class=\"dataframe\">\n",
       "  <thead>\n",
       "    <tr style=\"text-align: right;\">\n",
       "      <th></th>\n",
       "      <th>Työpaikan nimike</th>\n",
       "      <th>Yritysnimi</th>\n",
       "      <th>Sijaintikunta</th>\n",
       "      <th>Seloste</th>\n",
       "    </tr>\n",
       "  </thead>\n",
       "  <tbody>\n",
       "  </tbody>\n",
       "</table>\n",
       "</div>"
      ],
      "text/plain": [
       "Empty DataFrame\n",
       "Columns: [Työpaikan nimike, Yritysnimi, Sijaintikunta, Seloste]\n",
       "Index: []"
      ]
     },
     "execution_count": 18,
     "metadata": {},
     "output_type": "execute_result"
    }
   ],
   "source": [
    "data[selosteet_lower.str.contains('data-analyysi')]   #Näytetään tietorivit, joissa esiintyy data-analyysi-avainsanaa. "
   ]
  },
  {
   "cell_type": "code",
   "execution_count": 19,
   "metadata": {},
   "outputs": [
    {
     "data": {
      "text/html": [
       "<div>\n",
       "<style scoped>\n",
       "    .dataframe tbody tr th:only-of-type {\n",
       "        vertical-align: middle;\n",
       "    }\n",
       "\n",
       "    .dataframe tbody tr th {\n",
       "        vertical-align: top;\n",
       "    }\n",
       "\n",
       "    .dataframe thead th {\n",
       "        text-align: right;\n",
       "    }\n",
       "</style>\n",
       "<table border=\"1\" class=\"dataframe\">\n",
       "  <thead>\n",
       "    <tr style=\"text-align: right;\">\n",
       "      <th></th>\n",
       "      <th>Työpaikan nimike</th>\n",
       "      <th>Yritysnimi</th>\n",
       "      <th>Sijaintikunta</th>\n",
       "      <th>Seloste</th>\n",
       "    </tr>\n",
       "  </thead>\n",
       "  <tbody>\n",
       "    <tr>\n",
       "      <th>474</th>\n",
       "      <td>Kesätyöntekijä</td>\n",
       "      <td>Keva</td>\n",
       "      <td>Helsinki</td>\n",
       "      <td>Hae Kevaan kesätöihin!\\n\\nHaluatko kehittyä ty...</td>\n",
       "    </tr>\n",
       "  </tbody>\n",
       "</table>\n",
       "</div>"
      ],
      "text/plain": [
       "    Työpaikan nimike Yritysnimi Sijaintikunta  \\\n",
       "474   Kesätyöntekijä       Keva      Helsinki   \n",
       "\n",
       "                                               Seloste  \n",
       "474  Hae Kevaan kesätöihin!\\n\\nHaluatko kehittyä ty...  "
      ]
     },
     "execution_count": 19,
     "metadata": {},
     "output_type": "execute_result"
    }
   ],
   "source": [
    "data[selosteet_lower.str.contains('data-analyytikko')] #Näytetään tietorivit, joissa esiintyy data-analyytikko-avainsanaa. "
   ]
  },
  {
   "cell_type": "markdown",
   "metadata": {},
   "source": [
    "## Johtopäätös "
   ]
  },
  {
   "cell_type": "markdown",
   "metadata": {},
   "source": [
    "Vain yksi yritys tarvitsee data-analyysiä: Keva.  "
   ]
  },
  {
   "cell_type": "markdown",
   "metadata": {},
   "source": [
    "# 5. Kysymys ja 6. kysymys: "
   ]
  },
  {
   "cell_type": "markdown",
   "metadata": {},
   "source": [
    "**5. Kuinka paljon on data-analyysiin liittyvää, mutta ei tarvitse Pythonia?**\n",
    "\n",
    "**6. Missä kaupungissa esiintyy eniten Python työllistäjiä?**"
   ]
  },
  {
   "cell_type": "markdown",
   "metadata": {},
   "source": [
    "## Johtopäätös"
   ]
  },
  {
   "cell_type": "markdown",
   "metadata": {},
   "source": [
    "5.kysymys: \n",
    "4.kysymyksen johtopäätöksestä saatiin tulos, että vain yksi työpaikka tarvitsi data-analyysiä ja eikä vaatinut Python-taitoa. \n",
    "\n",
    "6.kysymys: \n",
    "Ei missään kunnassa esiintynyt Pythonin työllistäjiä"
   ]
  }
 ],
 "metadata": {
  "kernelspec": {
   "display_name": "Python 3",
   "language": "python",
   "name": "python3"
  },
  "language_info": {
   "codemirror_mode": {
    "name": "ipython",
    "version": 3
   },
   "file_extension": ".py",
   "mimetype": "text/x-python",
   "name": "python",
   "nbconvert_exporter": "python",
   "pygments_lexer": "ipython3",
   "version": "3.8.10"
  }
 },
 "nbformat": 4,
 "nbformat_minor": 4
}
