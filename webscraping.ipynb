{
 "cells": [
  {
   "cell_type": "markdown",
   "metadata": {},
   "source": [
    "# Scraping Indeed sivustosta 24.2 "
   ]
  },
  {
   "cell_type": "markdown",
   "metadata": {},
   "source": [
    "# Johdato"
   ]
  },
  {
   "cell_type": "markdown",
   "metadata": {},
   "source": [
    "Tämä on osa projektityötä \"2022 kesätyöanalyysi indeed-sivustosta: Python-työpaikkoja\". Tässä ipynb-tiedostosta käytetään web scraping datankeräämiseen. "
   ]
  },
  {
   "cell_type": "code",
   "execution_count": 2,
   "metadata": {},
   "outputs": [
    {
     "name": "stderr",
     "output_type": "stream",
     "text": [
      "/home/degnaiyu/.local/lib/python3.8/site-packages/pandas/compat/_optional.py:149: UserWarning: Pandas requires version '1.3.1' or newer of 'bottleneck' (version '1.2.1' currently installed).\n",
      "  warnings.warn(msg, UserWarning)\n"
     ]
    }
   ],
   "source": [
    "import requests\n",
    "from bs4 import BeautifulSoup\n",
    "import re \n",
    "import pandas as pd\n",
    "import numpy as np "
   ]
  },
  {
   "cell_type": "markdown",
   "metadata": {},
   "source": [
    "Base link: https://fi.indeed.com/"
   ]
  },
  {
   "cell_type": "code",
   "execution_count": 3,
   "metadata": {},
   "outputs": [],
   "source": [
    "baselink= 'https://fi.indeed.com'"
   ]
  },
  {
   "cell_type": "markdown",
   "metadata": {},
   "source": [
    "Haulla 'Kesätyö' saatiin seuraava:"
   ]
  },
  {
   "cell_type": "code",
   "execution_count": 4,
   "metadata": {},
   "outputs": [],
   "source": [
    "url= 'https://fi.indeed.com/jobs?q=Kesätyö&start=0'"
   ]
  },
  {
   "cell_type": "markdown",
   "metadata": {},
   "source": [
    "Sivusto haulla 'Kesätyö': "
   ]
  },
  {
   "cell_type": "code",
   "execution_count": 5,
   "metadata": {},
   "outputs": [],
   "source": [
    "page=requests.get(url) #sivusto "
   ]
  },
  {
   "cell_type": "markdown",
   "metadata": {},
   "source": [
    "## Sivuston html-script"
   ]
  },
  {
   "cell_type": "code",
   "execution_count": 6,
   "metadata": {},
   "outputs": [],
   "source": [
    "soup=BeautifulSoup(page.content,'html.parser' )"
   ]
  },
  {
   "cell_type": "markdown",
   "metadata": {},
   "source": [
    "## Sivuston tietoaukeama "
   ]
  },
  {
   "cell_type": "markdown",
   "metadata": {},
   "source": [
    "Tässä on kaikki olennaiset tiedot yhdestä aukeamasta"
   ]
  },
  {
   "cell_type": "code",
   "execution_count": 7,
   "metadata": {},
   "outputs": [],
   "source": [
    "maincontent= soup.find('tbody', id= 'resultsBodyContent')"
   ]
  },
  {
   "cell_type": "markdown",
   "metadata": {},
   "source": [
    "### Sivujen numerot listana"
   ]
  },
  {
   "cell_type": "code",
   "execution_count": 8,
   "metadata": {},
   "outputs": [],
   "source": [
    "sivunumerot= list(range(10, 340, 10 ))     #ensimmäinen sivu ei huomioida"
   ]
  },
  {
   "cell_type": "markdown",
   "metadata": {},
   "source": [
    "## Yhden sivun analysointi"
   ]
  },
  {
   "cell_type": "markdown",
   "metadata": {},
   "source": [
    "Analysoidaan yhtä sivua "
   ]
  },
  {
   "cell_type": "code",
   "execution_count": 9,
   "metadata": {},
   "outputs": [],
   "source": [
    "mozaiczone= maincontent.find('div' ,class_= 'mosaic-zone', id='mosaic-zone-jobcards' )   #tässä on kaikki työesitteet \n",
    "jobcards= mozaiczone.find_all('a',rel=\"nofollow\",  target='_blank')   #tässä on kaikki linkkien esitteet  "
   ]
  },
  {
   "cell_type": "markdown",
   "metadata": {},
   "source": [
    "Linkit kesätyöpaikkojen sivustoihin:"
   ]
  },
  {
   "cell_type": "code",
   "execution_count": 10,
   "metadata": {},
   "outputs": [],
   "source": [
    "jobcardlinklist=[]    "
   ]
  },
  {
   "cell_type": "code",
   "execution_count": 11,
   "metadata": {},
   "outputs": [],
   "source": [
    "for job in jobcards:\n",
    "    jobcardlinklist.append(baselink+ job['href'])"
   ]
  },
  {
   "cell_type": "markdown",
   "metadata": {},
   "source": [
    "Näytetään ensimmäiset linkit:"
   ]
  },
  {
   "cell_type": "code",
   "execution_count": 12,
   "metadata": {},
   "outputs": [
    {
     "data": {
      "text/plain": [
       "['https://fi.indeed.com/rc/clk?jk=521be086e6d00ea2&fccid=264e4b7d5396a070&vjs=3',\n",
       " 'https://fi.indeed.com/rc/clk?jk=3c2e84186be30099&fccid=a5aea01671306f7a&vjs=3',\n",
       " 'https://fi.indeed.com/rc/clk?jk=032e3967eebf9fa6&fccid=0ce9a45d8b4ba0dc&vjs=3',\n",
       " 'https://fi.indeed.com/rc/clk?jk=a25e48332f4bc442&fccid=b3d8921676c3d832&vjs=3',\n",
       " 'https://fi.indeed.com/rc/clk?jk=ced20c43f3e5875d&fccid=6fd093bf1614588a&vjs=3',\n",
       " 'https://fi.indeed.com/rc/clk?jk=b51b4a93b4b6232f&fccid=e16a8bcfd3cd2559&vjs=3',\n",
       " 'https://fi.indeed.com/rc/clk?jk=158f8e5a963b1c11&fccid=e4800948fed13758&vjs=3',\n",
       " 'https://fi.indeed.com/rc/clk?jk=2ac37ec906323673&fccid=d29a99d6688ab1b2&vjs=3',\n",
       " 'https://fi.indeed.com/rc/clk?jk=6fb17225b2c0a8a8&fccid=289f8d669b92b0c1&vjs=3',\n",
       " 'https://fi.indeed.com/rc/clk?jk=501bffc9396e4a0e&fccid=c91e9d2c7be1c3e0&vjs=3',\n",
       " 'https://fi.indeed.com/rc/clk?jk=31c7c7a632161cd8&fccid=e16a8bcfd3cd2559&vjs=3',\n",
       " 'https://fi.indeed.com/rc/clk?jk=24cce3a6f90b1c96&fccid=c3b919e6b9bfa39e&vjs=3',\n",
       " 'https://fi.indeed.com/rc/clk?jk=c31c5b44d4b93305&fccid=d83918dff59d7437&vjs=3',\n",
       " 'https://fi.indeed.com/rc/clk?jk=b0f84caead027e51&fccid=12617d1c224e7f78&vjs=3',\n",
       " 'https://fi.indeed.com/rc/clk?jk=b19819d3814afe2a&fccid=e16a8bcfd3cd2559&vjs=3']"
      ]
     },
     "execution_count": 12,
     "metadata": {},
     "output_type": "execute_result"
    }
   ],
   "source": [
    "jobcardlinklist"
   ]
  },
  {
   "cell_type": "markdown",
   "metadata": {},
   "source": [
    "## Funktio työpaikan sivustolle:"
   ]
  },
  {
   "cell_type": "markdown",
   "metadata": {},
   "source": [
    "Funktio palauttaa työpaikan sivun tekstiosan.  "
   ]
  },
  {
   "cell_type": "code",
   "execution_count": 13,
   "metadata": {},
   "outputs": [],
   "source": [
    "#testattu\n",
    "\n",
    "def seulonta(link):\n",
    "    webpage= requests.get(link) \n",
    "    bsoup= BeautifulSoup(webpage.content, 'html.parser')\n",
    "    #työpaikan esite\n",
    "    try: \n",
    "        jobdescriptiontext= bsoup.find('div', id=\"jobDescriptionText\" ).text \n",
    "    except:\n",
    "        return np.nan, np.nan, np.nan, np.nan\n",
    "    #työpaikan nimike\n",
    "    nimike= bsoup.find('h1', class_='icl-u-xs-mb--xs icl-u-xs-mt--none jobsearch-JobInfoHeader-title' ).text \n",
    "    \n",
    "    \n",
    "    #tässä on tekstipätkä, jossa on yrityksen nimi, arvostelun määrä (epäolennainen)\n",
    "    # ja yrityksen sijaintikunta  \n",
    "    companyinfo= bsoup.find('div', class_= \"icl-u-xs-mt--xs icl-u-textColor--secondary jobsearch-JobInfoHeader-subtitle jobsearch-DesktopStickyContainer-subtitle\").text \n",
    "    \n",
    "    \n",
    "    #poistetaan arvostelun määrä osio \n",
    "    if re.search(r'\\d+ arvostelua', companyinfo): \n",
    "        companyinfo= re.sub(r'\\d+ arvostelua', ',', companyinfo)\n",
    "        \n",
    "        companyinfo= companyinfo.split(',')  # companyinfo on nyt listana\n",
    "\n",
    "\n",
    "        yritysnimi= companyinfo[0]\n",
    "        paikkakunta= companyinfo[-1]\n",
    "    \n",
    "    elif 'arvostelua' not in companyinfo: \n",
    "        try: \n",
    "            yritysnimi, = re.findall(r'([a-zåäöA-ZÅÄÖ].+)[A-ZÅÄÖ]', companyinfo)\n",
    "            paikkakunta = companyinfo.replace(yritysnimi, '')\n",
    "        except: \n",
    "            yritysnimi =np.nan \n",
    "            paikkakunta=np.nan  \n",
    "        \n",
    "    else: \n",
    "        yritysnimi= np.nan \n",
    "        paikkakunta= np.nan\n",
    "    \n",
    "    return nimike, yritysnimi, paikkakunta, jobdescriptiontext\n",
    "    \n",
    "    "
   ]
  },
  {
   "cell_type": "code",
   "execution_count": 14,
   "metadata": {},
   "outputs": [
    {
     "data": {
      "text/plain": [
       "('Myyjä (kesätyöntekijä), Kankaanpää',\n",
       " 'Musti ja Mirri Oy',\n",
       " 'Helsinki',\n",
       " 'Myyjä Kankaanpään Musti ja Mirri myymälään (kesätyö)\\nTervetuloa Mustilaumaan! Olemme Pohjoismaiden suurin ja ammattitaitoisin lemmikkitarvikeketju, ja tunnettuja loistavasta asiakaspalvelusta. Me teemme lemmikkien ja niiden perheiden elämästä helpompaa, turvallisempaa ja hauskempaa.\\nMillaista on myyjän työ Mustissa ja Mirrissä?\\n\"Musti ja Mirri ei ole kuin mikä tahansa kauppa, vaan eläinihmisten kohtaamispaikka. Asiakkaiden pulmien ratkominen on äärimmäisen palkitsevaa. Minulla on ilo ja kunnia olla tukena nelijalkaisten asiakkaideni arjessa – sillä jokainen kuono on loistavan palvelun arvoinen.\\nVoin päästää luovuuteni valloilleen luomalla uusia esillepanoja tai päivittämällä myymälän sometilejä. Mikäli haluan skipata kuntosalin tällä(kin) viikolla, nappaan vastuun isoimpien ruokasäkkien hyllyttämisestä. Kun haluan haastaa itseäni, otan hoitaakseni myymälätapahtuman järjestämisen. Mustissa ja Mirrissä mahdollisuudet ovat rajattomat ja jokainen idea on esittämisen arvoinen. \"Manta, Mustin ja Mirrin myyjä\\nLue lisää myymälätyöstä täältä\\nToivomme sinulta\\nArvostamme työntekijöissämme intohimoista suhtautumista eläimiin, mutkatonta suhdetta myymiseen ja kykyä tarttua myös myymälän fyysisiin tehtäviin. Sinulla pitäisi olla joustavuutta tehdä töitä silloin, kun asiakkaat meitä tarvitsevat – myös iltaisin ja viikonloppuina. Alan koulutukselle ja kokemukselle heilutamme aina häntää!\\n\\nEdellytämme myyjitämme vähintään 18 vuoden ikää.\\nMiksi kannattaa liittyä Mustijengiin?\\nVastassa on motivoitunut, positiivinen ja huippuhauska työyhteisö. Sinulla on mahdollisuus kehittää omaa työtäsi ja koko Mustiketjua. Kohtaat joka päivä paljon karvaisia asiakkaita ja voit tuoda myös oman nelijalkaisesi mukaan töihin. Saat myös Mustin ja Mirrin uramahdollisuudet (katso uratarinoita) ja hyvät henkilökuntaedut.\\nTyö alkaa sopimuksen mukaan kesäkuun alkussa ja on määräaikainen kesätyö elokuun puoliväliin asti. Toivomme, että voit sitoutua kesätyöhön koko määräaikaisuuden ajan.\\nMikäli kiinnostuit, jätä hakemuksesi alla olevasta linkistä 8.3.2022 mennessä. Huomioimme vain rekrytointijärjestelmämme kautta tulleet hakemukset.')"
      ]
     },
     "execution_count": 14,
     "metadata": {},
     "output_type": "execute_result"
    }
   ],
   "source": [
    "seulonta(jobcardlinklist[2])   #esimerkki "
   ]
  },
  {
   "cell_type": "markdown",
   "metadata": {},
   "source": [
    "## Tiedon tallentaminen DataFrame-taulukkoon "
   ]
  },
  {
   "cell_type": "markdown",
   "metadata": {},
   "source": [
    "Taulukko:"
   ]
  },
  {
   "cell_type": "code",
   "execution_count": 15,
   "metadata": {},
   "outputs": [],
   "source": [
    "frame= {'Työpaikan nimike':[], 'Yritysnimi': [], 'Sijaintikunta': [], 'Seloste': []}"
   ]
  },
  {
   "cell_type": "code",
   "execution_count": 16,
   "metadata": {},
   "outputs": [],
   "source": [
    "for link in jobcardlinklist:\n",
    "    nimike, yritysnimi, paikkakunta, jobdescriptiontext = seulonta(link)\n",
    "    frame['Työpaikan nimike'].append(nimike)\n",
    "    frame['Yritysnimi'].append(yritysnimi)\n",
    "    frame['Sijaintikunta'].append(paikkakunta)\n",
    "    frame['Seloste'].append(jobdescriptiontext)\n",
    "    "
   ]
  },
  {
   "cell_type": "code",
   "execution_count": 17,
   "metadata": {},
   "outputs": [
    {
     "data": {
      "text/html": [
       "<div>\n",
       "<style scoped>\n",
       "    .dataframe tbody tr th:only-of-type {\n",
       "        vertical-align: middle;\n",
       "    }\n",
       "\n",
       "    .dataframe tbody tr th {\n",
       "        vertical-align: top;\n",
       "    }\n",
       "\n",
       "    .dataframe thead th {\n",
       "        text-align: right;\n",
       "    }\n",
       "</style>\n",
       "<table border=\"1\" class=\"dataframe\">\n",
       "  <thead>\n",
       "    <tr style=\"text-align: right;\">\n",
       "      <th></th>\n",
       "      <th>Työpaikan nimike</th>\n",
       "      <th>Yritysnimi</th>\n",
       "      <th>Sijaintikunta</th>\n",
       "      <th>Seloste</th>\n",
       "    </tr>\n",
       "  </thead>\n",
       "  <tbody>\n",
       "    <tr>\n",
       "      <th>0</th>\n",
       "      <td>Pizzeriatyöntekijä Kesätyö 2022 Rax Pizzabuffe...</td>\n",
       "      <td>Restel Ravintolat Oy</td>\n",
       "      <td>Helsinki</td>\n",
       "      <td>Oletko reipas ja vastuuntuntoinen tyyppi, joka...</td>\n",
       "    </tr>\n",
       "    <tr>\n",
       "      <th>1</th>\n",
       "      <td>Kesärekry - Kesätyöntekijöitä Customer Service...</td>\n",
       "      <td>JYSK</td>\n",
       "      <td>Vantaa</td>\n",
       "      <td>Yrityksen kuvaus\\nHaemme kesätyöntekijöitä 30-...</td>\n",
       "    </tr>\n",
       "    <tr>\n",
       "      <th>2</th>\n",
       "      <td>Myyjä (kesätyöntekijä), Kankaanpää</td>\n",
       "      <td>Musti ja Mirri Oy</td>\n",
       "      <td>Helsinki</td>\n",
       "      <td>Myyjä Kankaanpään Musti ja Mirri myymälään (ke...</td>\n",
       "    </tr>\n",
       "    <tr>\n",
       "      <th>3</th>\n",
       "      <td>Jäätelönmyyjä</td>\n",
       "      <td>Finncafe</td>\n",
       "      <td>Helsinki</td>\n",
       "      <td>We are looking for people who can sell ice cre...</td>\n",
       "    </tr>\n",
       "    <tr>\n",
       "      <th>4</th>\n",
       "      <td>Kesätyö, 16-17-vuotiaat</td>\n",
       "      <td>Helsingin Kaupunki</td>\n",
       "      <td>Helsinki</td>\n",
       "      <td>Hei sinä 16-17-vuotias nuori!\\n\\n\\nKaipaatko k...</td>\n",
       "    </tr>\n",
       "  </tbody>\n",
       "</table>\n",
       "</div>"
      ],
      "text/plain": [
       "                                    Työpaikan nimike            Yritysnimi  \\\n",
       "0  Pizzeriatyöntekijä Kesätyö 2022 Rax Pizzabuffe...  Restel Ravintolat Oy   \n",
       "1  Kesärekry - Kesätyöntekijöitä Customer Service...                  JYSK   \n",
       "2                 Myyjä (kesätyöntekijä), Kankaanpää     Musti ja Mirri Oy   \n",
       "3                                      Jäätelönmyyjä              Finncafe   \n",
       "4                            Kesätyö, 16-17-vuotiaat    Helsingin Kaupunki   \n",
       "\n",
       "  Sijaintikunta                                            Seloste  \n",
       "0      Helsinki  Oletko reipas ja vastuuntuntoinen tyyppi, joka...  \n",
       "1        Vantaa  Yrityksen kuvaus\\nHaemme kesätyöntekijöitä 30-...  \n",
       "2      Helsinki  Myyjä Kankaanpään Musti ja Mirri myymälään (ke...  \n",
       "3      Helsinki  We are looking for people who can sell ice cre...  \n",
       "4      Helsinki  Hei sinä 16-17-vuotias nuori!\\n\\n\\nKaipaatko k...  "
      ]
     },
     "execution_count": 17,
     "metadata": {},
     "output_type": "execute_result"
    }
   ],
   "source": [
    "pd.DataFrame(frame).head()"
   ]
  },
  {
   "cell_type": "markdown",
   "metadata": {},
   "source": [
    "## Monen sivun analysointi"
   ]
  },
  {
   "cell_type": "markdown",
   "metadata": {},
   "source": [
    "Tässä osassa toistetaan edelliset vaiheet. Tarkoituksena on analysoida kaikki sivut, jotka liittyvät kesätyöpaikkaan. "
   ]
  },
  {
   "cell_type": "code",
   "execution_count": 18,
   "metadata": {
    "tags": []
   },
   "outputs": [
    {
     "ename": "AttributeError",
     "evalue": "'NoneType' object has no attribute 'find'",
     "output_type": "error",
     "traceback": [
      "\u001b[0;31m---------------------------------------------------------------------------\u001b[0m",
      "\u001b[0;31mAttributeError\u001b[0m                            Traceback (most recent call last)",
      "\u001b[0;32m<ipython-input-18-3829a6304041>\u001b[0m in \u001b[0;36m<module>\u001b[0;34m\u001b[0m\n\u001b[1;32m     11\u001b[0m \u001b[0;34m\u001b[0m\u001b[0m\n\u001b[1;32m     12\u001b[0m     \u001b[0;31m#työpaikkojen esitteet\u001b[0m\u001b[0;34m\u001b[0m\u001b[0;34m\u001b[0m\u001b[0;34m\u001b[0m\u001b[0m\n\u001b[0;32m---> 13\u001b[0;31m     \u001b[0mmozaiczone\u001b[0m\u001b[0;34m=\u001b[0m \u001b[0mmaincontent\u001b[0m\u001b[0;34m.\u001b[0m\u001b[0mfind\u001b[0m\u001b[0;34m(\u001b[0m\u001b[0;34m'div'\u001b[0m \u001b[0;34m,\u001b[0m\u001b[0mclass_\u001b[0m\u001b[0;34m=\u001b[0m \u001b[0;34m'mosaic-zone'\u001b[0m\u001b[0;34m,\u001b[0m \u001b[0mid\u001b[0m\u001b[0;34m=\u001b[0m\u001b[0;34m'mosaic-zone-jobcards'\u001b[0m \u001b[0;34m)\u001b[0m   \u001b[0;31m#tässä on kaikki työesitteet\u001b[0m\u001b[0;34m\u001b[0m\u001b[0;34m\u001b[0m\u001b[0m\n\u001b[0m\u001b[1;32m     14\u001b[0m     \u001b[0mjobcards\u001b[0m\u001b[0;34m=\u001b[0m \u001b[0mmozaiczone\u001b[0m\u001b[0;34m.\u001b[0m\u001b[0mfind_all\u001b[0m\u001b[0;34m(\u001b[0m\u001b[0;34m'a'\u001b[0m\u001b[0;34m,\u001b[0m\u001b[0mrel\u001b[0m\u001b[0;34m=\u001b[0m\u001b[0;34m\"nofollow\"\u001b[0m\u001b[0;34m,\u001b[0m  \u001b[0mtarget\u001b[0m\u001b[0;34m=\u001b[0m\u001b[0;34m'_blank'\u001b[0m\u001b[0;34m)\u001b[0m   \u001b[0;31m#tässä on kaikki linkkien esitteet\u001b[0m\u001b[0;34m\u001b[0m\u001b[0;34m\u001b[0m\u001b[0m\n\u001b[1;32m     15\u001b[0m \u001b[0;34m\u001b[0m\u001b[0m\n",
      "\u001b[0;31mAttributeError\u001b[0m: 'NoneType' object has no attribute 'find'"
     ]
    }
   ],
   "source": [
    "for sivunumero in sivunumerot:\n",
    "    #muutetaan sivunumeroa \n",
    "    url = re.sub('\\d+$', str(sivunumero), url)   \n",
    "    \n",
    "    #päästään sivun html-scriptiin\n",
    "    page=requests.get(url)\n",
    "    soup= BeautifulSoup(page.content, 'html.parser')\n",
    "    \n",
    "    #sisältö-alue \n",
    "    maincontent= soup.find('tbody', id= 'resultsBodyContent')\n",
    "    \n",
    "    #työpaikkojen esitteet \n",
    "    mozaiczone= maincontent.find('div' ,class_= 'mosaic-zone', id='mosaic-zone-jobcards' )   #tässä on kaikki työesitteet \n",
    "    jobcards= mozaiczone.find_all('a',rel=\"nofollow\",  target='_blank')   #tässä on kaikki linkkien esitteet  \n",
    "\n",
    "    \n",
    "    jobcardlinklist=[] #nollataan lista \n",
    "    \n",
    "    #tallennetaan sivuston linkit listaan \n",
    "    for job in jobcards:\n",
    "        jobcardlinklist.append(baselink+ job['href'])\n",
    "        \n",
    "        \n",
    "    for link in jobcardlinklist:\n",
    "        nimike, yritysnimi, paikkakunta, jobdescriptiontext = seulonta(link)\n",
    "        frame['Työpaikan nimike'].append(nimike)\n",
    "        frame['Yritysnimi'].append(yritysnimi)\n",
    "        frame['Sijaintikunta'].append(paikkakunta)\n",
    "        frame['Seloste'].append(jobdescriptiontext)\n",
    "\n",
    "\n",
    "\n"
   ]
  },
  {
   "cell_type": "markdown",
   "metadata": {},
   "source": [
    "Näköjään esiintyi recaptcha-botti. Jatketaan edellistä seulontaa. "
   ]
  },
  {
   "cell_type": "code",
   "execution_count": 30,
   "metadata": {
    "tags": []
   },
   "outputs": [],
   "source": [
    "for sivunumero in range(170,340, 10 ): \n",
    "    #muutetaan sivunumeroa \n",
    "    url = re.sub('\\d+$', str(sivunumero), url)   \n",
    "    \n",
    "    #päästään sivun html-scriptiin\n",
    "    page=requests.get(url)\n",
    "    soup= BeautifulSoup(page.content, 'html.parser')\n",
    "    \n",
    "    #sisältö-alue \n",
    "    maincontent= soup.find('tbody', id= 'resultsBodyContent')\n",
    "    \n",
    "    #työpaikkojen esitteet \n",
    "    mozaiczone= maincontent.find('div' ,class_= 'mosaic-zone', id='mosaic-zone-jobcards' )   #tässä on kaikki työesitteet \n",
    "    jobcards= mozaiczone.find_all('a',rel=\"nofollow\",  target='_blank')   #tässä on kaikki linkkien esitteet  \n",
    "\n",
    "    \n",
    "    jobcardlinklist=[] #nollataan lista \n",
    "    \n",
    "    #tallennetaan sivuston linkit listaan \n",
    "    for job in jobcards:\n",
    "        jobcardlinklist.append(baselink+ job['href'])\n",
    "        \n",
    "        \n",
    "    for link in jobcardlinklist:\n",
    "        nimike, yritysnimi, paikkakunta, jobdescriptiontext = seulonta(link)\n",
    "        frame['Työpaikan nimike'].append(nimike)\n",
    "        frame['Yritysnimi'].append(yritysnimi)\n",
    "        frame['Sijaintikunta'].append(paikkakunta)\n",
    "        frame['Seloste'].append(jobdescriptiontext)\n",
    "\n"
   ]
  },
  {
   "cell_type": "code",
   "execution_count": 33,
   "metadata": {},
   "outputs": [
    {
     "data": {
      "text/plain": [
       "330"
      ]
     },
     "execution_count": 33,
     "metadata": {},
     "output_type": "execute_result"
    }
   ],
   "source": [
    "sivunumero"
   ]
  },
  {
   "cell_type": "markdown",
   "metadata": {
    "jupyter": {
     "outputs_hidden": true
    },
    "tags": []
   },
   "source": [
    "Sivunumero on kunnossa. Lukeminen onnistui "
   ]
  },
  {
   "cell_type": "markdown",
   "metadata": {},
   "source": [
    "## Data muunnetaan taulukoksi pd.DataFrame"
   ]
  },
  {
   "cell_type": "code",
   "execution_count": 34,
   "metadata": {},
   "outputs": [],
   "source": [
    "dataframe= pd.DataFrame(frame)"
   ]
  },
  {
   "cell_type": "markdown",
   "metadata": {},
   "source": [
    "Tallennetaan taulukko json tiedostona: "
   ]
  },
  {
   "cell_type": "code",
   "execution_count": 37,
   "metadata": {},
   "outputs": [],
   "source": [
    "#data=dataframe.to_json('./scrapingresult.json')    "
   ]
  },
  {
   "cell_type": "code",
   "execution_count": null,
   "metadata": {},
   "outputs": [],
   "source": []
  }
 ],
 "metadata": {
  "kernelspec": {
   "display_name": "Python 3",
   "language": "python",
   "name": "python3"
  },
  "language_info": {
   "codemirror_mode": {
    "name": "ipython",
    "version": 3
   },
   "file_extension": ".py",
   "mimetype": "text/x-python",
   "name": "python",
   "nbconvert_exporter": "python",
   "pygments_lexer": "ipython3",
   "version": "3.8.10"
  }
 },
 "nbformat": 4,
 "nbformat_minor": 4
}
